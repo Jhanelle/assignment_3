{
 "cells": [
  {
   "cell_type": "markdown",
   "metadata": {},
   "source": [
    "# Problems_in_Python_1"
   ]
  },
  {
   "cell_type": "code",
   "execution_count": 2,
   "metadata": {
    "collapsed": true
   },
   "outputs": [],
   "source": [
    "word = \"supercalifragilisticexpialidocious\""
   ]
  },
  {
   "cell_type": "code",
   "execution_count": 93,
   "metadata": {
    "collapsed": false,
    "scrolled": true
   },
   "outputs": [
    {
     "name": "stdout",
     "output_type": "stream",
     "text": [
      "first word: super\n",
      "second word: ice\n",
      "last word: us\n"
     ]
    }
   ],
   "source": [
    "#slicing is done to create the variable containing the first word, \"super\"\n",
    "print('first word:', word[:5])\n",
    "#slicing is performed to create the variable containing the word \"ice\"\n",
    "print('second word:', word [18:21])\n",
    "#slicing is performed to create the variable containing the last word \"us\"\n",
    "print(\"last word:\", word [-2:])\n"
   ]
  },
  {
   "cell_type": "code",
   "execution_count": 3,
   "metadata": {
    "collapsed": false
   },
   "outputs": [
    {
     "name": "stdout",
     "output_type": "stream",
     "text": [
      "mean of even numbers: 6.0\n"
     ]
    }
   ],
   "source": [
    "# Mean of even numbers from the data range 1-10\n",
    "even_numbers = [2, 4, 6, 8, 10]\n",
    "# Calculation of even numbers using an understanding of slicing\n",
    "even_numbers = [2, 4, 6, 8, 10]\n",
    "mean_of_even_numbers= (even_numbers[0]+ even_numbers[1]+ even_numbers[2]+ even_numbers[3]+even_numbers[4])/len(even_numbers)\n",
    "print(\"mean of even numbers:\",mean_of_even_numbers)\n",
    "\n"
   ]
  },
  {
   "cell_type": "code",
   "execution_count": 108,
   "metadata": {
    "collapsed": false
   },
   "outputs": [
    {
     "name": "stdout",
     "output_type": "stream",
     "text": [
      "mean of even numbers: 6.0\n",
      "difference of mean and squared: (16, 4, 0, 4, 16)\n",
      "mean of the squared differences: 8\n",
      "standard deviation of the even numbers: 2.8284271247461903\n"
     ]
    }
   ],
   "source": [
    "#List of even numbers used to calculate the standard deviation\n",
    "even_numbers_2=[2,4,6,8,10]\n",
    "# Mean of even numbers\n",
    "mean_of_even_numbers=(even_numbers_2[0]+even_numbers_2[1]+even_numbers_2[2]+even_numbers_2[3]+even_numbers_2[4])/len(even_numbers_2)\n",
    "print(\"mean of even numbers:\", mean_of_even_numbers)\n",
    "# The difference of the calculated mean from the orginal numbers which is later squared\n",
    "difference_of_mean_and_squared=(2-6)**2, (4-6)**2, (6-6)**2, (8-6)**2, (10-6)**2\n",
    "print(\"difference of mean and squared:\",difference_of_mean_and_squared) \n",
    "# Mean of the squared differences\n",
    "mean_squared_differences= (16 + 4 + 0 +4 +16)/ len(even_numbers_2)\n",
    "print(\"mean of the squared differences:\", mean_of_the_squared_differences)\n",
    "#Square root of the mean of the squared differences to find the standard deviation\n",
    "standard_deviation_of_even_numbers_2 =8**0.5\n",
    "print(\"standard deviation of the even numbers:\", standard_deviation_of_even_numbers_2)\n"
   ]
  },
  {
   "cell_type": "code",
   "execution_count": 2,
   "metadata": {
    "collapsed": false
   },
   "outputs": [
    {
     "name": "stdout",
     "output_type": "stream",
     "text": [
      "standard error of the even numbers: 1.2649110082791595\n"
     ]
    }
   ],
   "source": [
    "#List of even numbers used to calculate the standard error\n",
    "even_numbers_3=[2,4,6,8,10]\n",
    "# Standard Error of the even numbers. The values for standard deviation and # of observations were taken from the previous command line\n",
    "standard_deviation = (2.828427)\n",
    "number_of_observation = (5)\n",
    "print(\"standard error of the even numbers:\",standard_deviation/(number_of_observation**(0.5)))"
   ]
  },
  {
   "cell_type": "code",
   "execution_count": 95,
   "metadata": {
    "collapsed": false
   },
   "outputs": [
    {
     "name": "stdout",
     "output_type": "stream",
     "text": [
      "Jhanelle Williams\n"
     ]
    }
   ],
   "source": [
    "First_name= \"Jhanelle\"\n",
    "Last_name= \"Williams\"\n",
    "spacer= \" \"\n",
    "# Print both my first, spacer and last name using the sum function\n",
    "print(First_name + spacer+ Last_name)"
   ]
  },
  {
   "cell_type": "code",
   "execution_count": null,
   "metadata": {
    "collapsed": true
   },
   "outputs": [],
   "source": []
  }
 ],
 "metadata": {
  "kernelspec": {
   "display_name": "Python 3",
   "language": "python",
   "name": "python3"
  },
  "language_info": {
   "codemirror_mode": {
    "name": "ipython",
    "version": 3
   },
   "file_extension": ".py",
   "mimetype": "text/x-python",
   "name": "python",
   "nbconvert_exporter": "python",
   "pygments_lexer": "ipython3",
   "version": "3.4.3"
  }
 },
 "nbformat": 4,
 "nbformat_minor": 0
}
